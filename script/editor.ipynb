{
 "cells": [
  {
   "cell_type": "code",
   "execution_count": null,
   "id": "209ad43a",
   "metadata": {
    "ExecuteTime": {
     "end_time": "2023-03-10T23:31:37.938959Z",
     "start_time": "2023-03-10T23:31:37.014908Z"
    },
    "code_folding": []
   },
   "outputs": [],
   "source": [
    "#pip install moviepy pygame \n",
    "import os, re, math, pandas as pd\n",
    "from matplotlib import pyplot as plt, ticker as ticker, font_manager \n",
    "\n",
    "#https://zulko.github.io/moviepy/getting_started/quick_presentation.html\n",
    "from moviepy.editor import VideoClip, AudioFileClip, VideoFileClip\n",
    "from moviepy.video.io.bindings import mplfig_to_npimage"
   ]
  },
  {
   "cell_type": "code",
   "execution_count": null,
   "id": "99825b37",
   "metadata": {
    "ExecuteTime": {
     "end_time": "2023-03-10T23:31:37.980274Z",
     "start_time": "2023-03-10T23:31:37.941635Z"
    }
   },
   "outputs": [],
   "source": [
    "old_families = set(font_manager.get_font_names())\n",
    "font_files = font_manager.findSystemFonts(fontpaths=['font']) \n",
    "for font_file in font_files:\n",
    "    font_manager.fontManager.addfont(font_file)   \n",
    "new_families = set(font_manager.get_font_names())\n",
    "#print(new_families.difference(old_families)) \n",
    "\n",
    "# I will not disclose my font files but I got this \n",
    "# particular font \"Source Han Sans CN\" from \n",
    "# https://freefonts.top/font/60977eb18f0305e19313ecf2\n",
    "plt.rcParams['font.family'] = \"Source Han Sans CN\" \n",
    "plt.rcParams['font.size'] = 22 \n",
    "\n",
    "re_com = re.compile('[0-9 .]*')\n",
    "def title_to_vector(title):\n",
    "    #title = '433. 做一期播客，要如何寻找需要的信息？'\n",
    "    re_match = re_com.match(title)\n",
    "    first_line = '梁文道 八分 '+re_match.group()\n",
    "    following_lines = title[re_match.end():]\n",
    "    num_row = len(following_lines) // 10 + 2 \n",
    "    ys = [0.2*i for i in range(num_row)]\n",
    "    median = sum(ys)/len(ys)\n",
    "    ys = [0.5+i-median for i in ys]\n",
    "    ys = sorted(ys,reverse=True)\n",
    "    ts = [first_line]\n",
    "    for i in range(num_row-1):\n",
    "        ts.append(following_lines[i*10:(i+1)*10]) \n",
    "    return ys, ts \n",
    "\n",
    "my_dpi = 96\n",
    "text_kwargs = dict(ha='center', va='center', color='black')\n",
    "shape = (320, 240)\n",
    "\n",
    "def make_frame(_time): # run for every frame\n",
    "    ax.clear()\n",
    "    ax.axis('off') \n",
    "    #ys, title_in_pieces = \n",
    "    for y, piece in zip(*title_to_vector(title)):\n",
    "        ax.text(0.5, y, piece, **text_kwargs) \n",
    "    return mplfig_to_npimage(fig) "
   ]
  },
  {
   "cell_type": "code",
   "execution_count": null,
   "id": "a999202b",
   "metadata": {
    "ExecuteTime": {
     "end_time": "2023-03-10T23:31:37.999125Z",
     "start_time": "2023-03-10T23:31:37.982309Z"
    },
    "code_folding": []
   },
   "outputs": [],
   "source": [
    "df_audio = pd.read_csv('audio/list.csv')\n",
    "df_audio = df_audio.set_index('vid')\n",
    "df_audio = df_audio[df_audio['t_end'].notna()]\n",
    "df_audio"
   ]
  },
  {
   "cell_type": "code",
   "execution_count": null,
   "id": "9c4cce26",
   "metadata": {
    "ExecuteTime": {
     "end_time": "2023-03-10T23:38:41.525509Z",
     "start_time": "2023-03-10T23:31:38.001776Z"
    }
   },
   "outputs": [],
   "source": [
    "fig, ax = plt.subplots(figsize=(shape[0]/my_dpi, shape[1]/my_dpi), dpi=my_dpi)\n",
    "ax.xaxis.set_major_locator(ticker.NullLocator())\n",
    "ax.yaxis.set_major_locator(ticker.NullLocator()) \n",
    "for vid, row in df_audio.iterrows(): \n",
    "    audio_file=vid+'.mp4'\n",
    "    title   = row['title']\n",
    "    t_end   = row['t_end'] \n",
    "    if not os.path.exists('audio/'+audio_file):\n",
    "        print('[Original Audio File Does Not Exist]', audio_file)\n",
    "        continue\n",
    "    if os.path.exists('video/'+audio_file):\n",
    "        print('[Edited Video File Already Exists]', audio_file)\n",
    "        continue \n",
    "    print('[Yes Audio, No Video]', audio_file, title, t_end)\n",
    "    audioClip = AudioFileClip('audio/'+audio_file)\n",
    "    audioClip = audioClip.subclip(t_end=t_end)\n",
    "    videoClip = VideoClip(make_frame, duration=audioClip.duration).set_audio(audioClip)\n",
    "    #videoClip.ipython_display(fps=1, loop=True, autoplay=True)\n",
    "    videoClip.write_videofile('video/'+audio_file, fps=1) "
   ]
  }
 ],
 "metadata": {
  "kernelspec": {
   "display_name": "Python 3 (ipykernel)",
   "language": "python",
   "name": "python3"
  },
  "language_info": {
   "codemirror_mode": {
    "name": "ipython",
    "version": 3
   },
   "file_extension": ".py",
   "mimetype": "text/x-python",
   "name": "python",
   "nbconvert_exporter": "python",
   "pygments_lexer": "ipython3",
   "version": "3.11.2"
  }
 },
 "nbformat": 4,
 "nbformat_minor": 5
}
