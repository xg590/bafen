{
 "cells": [
  {
   "cell_type": "markdown",
   "metadata": {},
   "source": [
    "### Docs\n",
    "* https://developers.google.com/youtube/v3/docs"
   ]
  },
  {
   "cell_type": "code",
   "execution_count": null,
   "metadata": {
    "ExecuteTime": {
     "end_time": "2023-03-10T23:56:59.685439Z",
     "start_time": "2023-03-10T23:56:58.987729Z"
    }
   },
   "outputs": [],
   "source": [
    "# -*- coding: utf-8 -*-\n",
    "import os, json, flask, requests, pandas as pd\n",
    "\n",
    "import google.oauth2.credentials\n",
    "import google_auth_oauthlib.flow\n",
    "import googleapiclient.discovery\n",
    "from googleapiclient.http import MediaFileUpload "
   ]
  },
  {
   "cell_type": "code",
   "execution_count": null,
   "metadata": {
    "ExecuteTime": {
     "end_time": "2023-03-10T23:56:59.699693Z",
     "start_time": "2023-03-10T23:56:59.687912Z"
    }
   },
   "outputs": [],
   "source": [
    "API_SERVICE_NAME = 'youtube'\n",
    "API_VERSION = 'v3'\n",
    "with open('oauth2_user_credentials.json') as fr:\n",
    "    credentials = google.oauth2.credentials.Credentials(**json.load(fp=fr))\n",
    "youtube = googleapiclient.discovery.build(API_SERVICE_NAME, \n",
    "                                          API_VERSION, \n",
    "                                          credentials=credentials)"
   ]
  },
  {
   "cell_type": "code",
   "execution_count": null,
   "metadata": {
    "ExecuteTime": {
     "end_time": "2023-03-10T23:56:59.725067Z",
     "start_time": "2023-03-10T23:56:59.704429Z"
    }
   },
   "outputs": [],
   "source": [
    "df = pd.read_csv('audio/list.csv')\n",
    "df = df.set_index('vid') \n",
    "df = df[df['t_end'].notna()]\n",
    "print(df.index)\n",
    "display(df)"
   ]
  },
  {
   "cell_type": "code",
   "execution_count": null,
   "metadata": {
    "ExecuteTime": {
     "end_time": "2023-03-10T23:59:13.932684Z",
     "start_time": "2023-03-10T23:56:59.728453Z"
    }
   },
   "outputs": [],
   "source": [
    "playlistId = open('playerlist_id.txt').read() # my is \"PLUenxxxx_xxxxfrNm92hxxxxQdvukmViZ\"\n",
    "for vid, row in df.iterrows(): \n",
    "    to_be_uploaded = ['v02265g10002cdib5hbper3vmpfmcjrg', 'v02265g10002cdn0umsgdv7moe9tdnv0',\n",
    "       'v02265g10002cdrla8kak9efo1dc8khg', 'v02265g10002ce9aiv6celdfvb7l0hv0'] \n",
    "    if vid not in to_be_uploaded: continue\n",
    "    audio_file=f'video/{vid}.mp4'\n",
    "    title   = row['title']   \n",
    "    if not os.path.exists(audio_file):\n",
    "        print('[Video File Does not Exist]', audio_file)\n",
    "        continue\n",
    "    print(f'Uploading {title} ... ...')\n",
    "    body={\n",
    "        'snippet':{\n",
    "            'title':'梁文道 八分 ' + title,\n",
    "            #'description':'More words for this video',\n",
    "            'tags':['梁文道','八分'],\n",
    "            'categoryId':'22' # https://developers.google.com/youtube/v3/docs/videoCategories/list\n",
    "        },\n",
    "        'status':{\n",
    "            'privacyStatus':'public', # ['private','public','unlisted']\n",
    "            'selfDeclaredMadeForKids':False\n",
    "        }\n",
    "    }\n",
    "    \n",
    "    uploadedVideo = youtube.videos().insert(\n",
    "        part=','.join(body.keys()),\n",
    "        body=body,\n",
    "        media_body=MediaFileUpload(audio_file, chunksize=-1, resumable=False)\n",
    "    ).execute()\n",
    "    \n",
    "    videoId   = uploadedVideo['id'] \n",
    "    \n",
    "    body = {'snippet':{\n",
    "        \"playlistId\": playlistId, # '梁文道－八分'\n",
    "        #\"position\": 0,\n",
    "        \"resourceId\": {\n",
    "          \"kind\": \"youtube#video\",\n",
    "          \"videoId\": videoId\n",
    "        }\n",
    "    }}\n",
    "    \n",
    "    resource = youtube.playlistItems().insert(part='snippet', body=body).execute()\n",
    "    print(f'{title} Uploaded!')"
   ]
  }
 ],
 "metadata": {
  "kernelspec": {
   "display_name": "Python 3 (ipykernel)",
   "language": "python",
   "name": "python3"
  },
  "language_info": {
   "codemirror_mode": {
    "name": "ipython",
    "version": 3
   },
   "file_extension": ".py",
   "mimetype": "text/x-python",
   "name": "python",
   "nbconvert_exporter": "python",
   "pygments_lexer": "ipython3",
   "version": "3.11.2"
  }
 },
 "nbformat": 4,
 "nbformat_minor": 4
}
