{
 "cells": [
  {
   "cell_type": "markdown",
   "metadata": {},
   "source": [
    "### Docs\n",
    "* https://developers.google.com/youtube/v3/docs"
   ]
  },
  {
   "cell_type": "code",
   "execution_count": null,
   "metadata": {},
   "outputs": [],
   "source": [
    "# -*- coding: utf-8 -*-\n",
    "import os, json, flask, requests, pandas as pd\n",
    "\n",
    "import google.oauth2.credentials\n",
    "import google_auth_oauthlib.flow\n",
    "import googleapiclient.discovery\n",
    "import google.auth.transport.requests  \n",
    "from googleapiclient.http import MediaFileUpload "
   ]
  },
  {
   "cell_type": "code",
   "execution_count": null,
   "metadata": {},
   "outputs": [],
   "source": [
    "def run_me_to_refresh_the_access_token(): \n",
    "    with open('oauth2_user_credentials.json') as fr:\n",
    "        credentials = google.oauth2.credentials.Credentials(**json.load(fp=fr)) \n",
    "        \n",
    "    # The old access token is still vaild even you got a new valid access token. \n",
    "        \n",
    "    with open('oauth2_user_credentials.json', 'w') as fw:\n",
    "        credentials.refresh(google.auth.transport.requests.Request())\n",
    "        creden_js = credentials.to_json()\n",
    "        refreshed_credentials = json.loads(credentials.to_json())\n",
    "        # we shall discard expiry before save. Try and see the consequence if you shall not.\n",
    "        #refreshed_credentials.pop('expiry') \n",
    "        json.dump(refreshed_credentials, fp=fw)"
   ]
  },
  {
   "cell_type": "code",
   "execution_count": null,
   "metadata": {},
   "outputs": [],
   "source": [
    "API_SERVICE_NAME = 'youtube'\n",
    "API_VERSION = 'v3'\n",
    "with open('oauth2_user_credentials.json') as fr:\n",
    "    credentials = google.oauth2.credentials.Credentials(**json.load(fp=fr))\n",
    "    \n",
    "youtube = googleapiclient.discovery.build(API_SERVICE_NAME, \n",
    "                                          API_VERSION, \n",
    "                                          credentials=credentials)"
   ]
  },
  {
   "cell_type": "code",
   "execution_count": null,
   "metadata": {
    "scrolled": false
   },
   "outputs": [],
   "source": [
    "# I am going to upload my video to this playlist \"PLUenxxxx_xxxxfrNm92hxxxxQdvukmViZ\"\n",
    "playlistId = open('playerlist_id.txt').read() \n",
    "myUploadedVideo, response = {}, {}\n",
    "while True:\n",
    "    response = youtube.playlistItems().list(\n",
    "        playlistId=playlistId,\n",
    "        part='snippet',\n",
    "        maxResults=50,\n",
    "        pageToken=response.get('nextPageToken', '')\n",
    "    ).execute()  \n",
    "    # Print information about each video. \n",
    "    for playlist_item in response['items']:\n",
    "        title = playlist_item['snippet']['title']\n",
    "        video_id = playlist_item['snippet']['resourceId']['videoId']\n",
    "        myUploadedVideo[title]=video_id   \n",
    "    if not response.get('nextPageToken', ''): \n",
    "        break # no next page then break "
   ]
  },
  {
   "cell_type": "code",
   "execution_count": null,
   "metadata": {},
   "outputs": [],
   "source": [
    "df = pd.read_csv('audio/list.csv')\n",
    "df['title'] = df.apply(lambda x: '梁文道 八分 '+x.title, axis=1) \n",
    "df = df[~df['title'].isin(myUploadedVideo)] \n",
    "df = df.set_index('vid') \n",
    "df = df[df['t_end'].notna()] \n",
    "print(df.index)\n",
    "display(df)"
   ]
  },
  {
   "cell_type": "code",
   "execution_count": null,
   "metadata": {},
   "outputs": [],
   "source": [
    "myUploadedVideo"
   ]
  },
  {
   "cell_type": "code",
   "execution_count": null,
   "metadata": {},
   "outputs": [],
   "source": [
    "for vid, row in df.iterrows(): \n",
    "    audio_file=f'video/{vid}.mp4' \n",
    "    if not os.path.exists(audio_file):\n",
    "        print('[Video File Does not Exist]', audio_file)\n",
    "        continue\n",
    "    title = row['title']\n",
    "    print(f'Uploading {title} ... ...') \n",
    "    body={\n",
    "        'snippet':{\n",
    "            'title':title,\n",
    "            #'description':'More words for this video',\n",
    "            'tags':['梁文道','八分'],\n",
    "            'categoryId':'22' # https://developers.google.com/youtube/v3/docs/videoCategories/list\n",
    "        },\n",
    "        'status':{\n",
    "            'privacyStatus':'public', # ['private','public','unlisted']\n",
    "            'selfDeclaredMadeForKids':False\n",
    "        }\n",
    "    }\n",
    "    uploadedVideo = youtube.videos().insert(\n",
    "        part=','.join(body.keys()),\n",
    "        body=body,\n",
    "        media_body=MediaFileUpload(audio_file, chunksize=-1, resumable=False)\n",
    "    ).execute()\n",
    "    \n",
    "    videoId   = uploadedVideo['id'] \n",
    "    \n",
    "    body = {'snippet':{\n",
    "        \"playlistId\": playlistId, # '梁文道－八分'\n",
    "        #\"position\": 0,\n",
    "        \"resourceId\": {\n",
    "          \"kind\": \"youtube#video\",\n",
    "          \"videoId\": videoId\n",
    "        }\n",
    "    }}\n",
    "    \n",
    "    resource = youtube.playlistItems().insert(part='snippet', body=body).execute()\n",
    "    print(f'{title} Uploaded!')"
   ]
  }
 ],
 "metadata": {
  "kernelspec": {
   "display_name": "Python 3 (ipykernel)",
   "language": "python",
   "name": "python3"
  },
  "language_info": {
   "codemirror_mode": {
    "name": "ipython",
    "version": 3
   },
   "file_extension": ".py",
   "mimetype": "text/x-python",
   "name": "python",
   "nbconvert_exporter": "python",
   "pygments_lexer": "ipython3",
   "version": "3.11.4"
  }
 },
 "nbformat": 4,
 "nbformat_minor": 4
}
