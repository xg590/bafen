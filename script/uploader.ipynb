{
 "cells": [
  {
   "cell_type": "markdown",
   "metadata": {},
   "source": [
    "### Docs\n",
    "* https://developers.google.com/youtube/v3/docs"
   ]
  },
  {
   "cell_type": "code",
   "execution_count": null,
   "metadata": {
    "ExecuteTime": {
     "end_time": "2023-03-11T07:45:45.162415Z",
     "start_time": "2023-03-11T07:45:44.468153Z"
    }
   },
   "outputs": [],
   "source": [
    "# -*- coding: utf-8 -*-\n",
    "import os, json, flask, requests, pandas as pd\n",
    "\n",
    "import google.oauth2.credentials\n",
    "import google_auth_oauthlib.flow\n",
    "import googleapiclient.discovery\n",
    "from googleapiclient.http import MediaFileUpload "
   ]
  },
  {
   "cell_type": "code",
   "execution_count": null,
   "metadata": {
    "ExecuteTime": {
     "end_time": "2023-03-11T07:45:45.175996Z",
     "start_time": "2023-03-11T07:45:45.165146Z"
    }
   },
   "outputs": [],
   "source": [
    "API_SERVICE_NAME = 'youtube'\n",
    "API_VERSION = 'v3'\n",
    "with open('oauth2_user_credentials.json') as fr:\n",
    "    credentials = google.oauth2.credentials.Credentials(**json.load(fp=fr))\n",
    "youtube = googleapiclient.discovery.build(API_SERVICE_NAME, \n",
    "                                          API_VERSION, \n",
    "                                          credentials=credentials)"
   ]
  },
  {
   "cell_type": "code",
   "execution_count": null,
   "metadata": {
    "ExecuteTime": {
     "end_time": "2023-03-11T07:45:45.199055Z",
     "start_time": "2023-03-11T07:45:45.177834Z"
    }
   },
   "outputs": [],
   "source": [
    "df = pd.read_csv('audio/list.csv')\n",
    "df = df.set_index('vid') \n",
    "df = df[df['t_end'].notna()]\n",
    "print(df.index)\n",
    "display(df)"
   ]
  },
  {
   "cell_type": "code",
   "execution_count": null,
   "metadata": {
    "ExecuteTime": {
     "end_time": "2023-03-11T07:45:46.294119Z",
     "start_time": "2023-03-11T07:45:45.201070Z"
    }
   },
   "outputs": [],
   "source": [
    "channel_list = youtube.channels().list(\n",
    "    mine=True,\n",
    "    part='contentDetails'\n",
    "  ).execute()\n",
    "\n",
    "relatedPlaylists = channel_list['items'][0]['contentDetails']['relatedPlaylists']['uploads']\n",
    "\n",
    "playlist = youtube.playlistItems().list(\n",
    "    playlistId=relatedPlaylists,\n",
    "    part='snippet',\n",
    "    maxResults=5\n",
    ")\n",
    "\n",
    "myUploadedVideo = {}\n",
    "while playlist:\n",
    "    response = playlist.execute()\n",
    "    \n",
    "    # Print information about each video.\n",
    "    for playlist_item in response['items']:\n",
    "        title = playlist_item['snippet']['title']\n",
    "        video_id = playlist_item['snippet']['resourceId']['videoId']\n",
    "        myUploadedVideo[title]=video_id \n",
    "\n",
    "    playlist = youtube.playlistItems().list_next(playlist, response)"
   ]
  },
  {
   "cell_type": "code",
   "execution_count": null,
   "metadata": {
    "ExecuteTime": {
     "end_time": "2023-03-11T07:45:46.314894Z",
     "start_time": "2023-03-11T07:45:46.298011Z"
    }
   },
   "outputs": [],
   "source": [
    "playlistId = open('playerlist_id.txt').read() # my is \"PLUenxxxx_xxxxfrNm92hxxxxQdvukmViZ\"\n",
    "for vid, row in df.iterrows(): \n",
    "    audio_file=f'video/{vid}.mp4'\n",
    "    title   = '梁文道 八分 ' + row['title']\n",
    "    if title in myUploadedVideo: \n",
    "        print('[Video Is Already in My Channel]', title)\n",
    "        continue\n",
    "    if not os.path.exists(audio_file):\n",
    "        print('[Video File Does not Exist]', audio_file)\n",
    "        continue\n",
    "    print(f'Uploading {title} ... ...')\n",
    "    continue\n",
    "    body={\n",
    "        'snippet':{\n",
    "            'title':title,\n",
    "            #'description':'More words for this video',\n",
    "            'tags':['梁文道','八分'],\n",
    "            'categoryId':'22' # https://developers.google.com/youtube/v3/docs/videoCategories/list\n",
    "        },\n",
    "        'status':{\n",
    "            'privacyStatus':'public', # ['private','public','unlisted']\n",
    "            'selfDeclaredMadeForKids':False\n",
    "        }\n",
    "    }\n",
    "    \n",
    "    uploadedVideo = youtube.videos().insert(\n",
    "        part=','.join(body.keys()),\n",
    "        body=body,\n",
    "        media_body=MediaFileUpload(audio_file, chunksize=-1, resumable=False)\n",
    "    ).execute()\n",
    "    \n",
    "    videoId   = uploadedVideo['id'] \n",
    "    \n",
    "    body = {'snippet':{\n",
    "        \"playlistId\": playlistId, # '梁文道－八分'\n",
    "        #\"position\": 0,\n",
    "        \"resourceId\": {\n",
    "          \"kind\": \"youtube#video\",\n",
    "          \"videoId\": videoId\n",
    "        }\n",
    "    }}\n",
    "    \n",
    "    resource = youtube.playlistItems().insert(part='snippet', body=body).execute()\n",
    "    print(f'{title} Uploaded!')"
   ]
  }
 ],
 "metadata": {
  "kernelspec": {
   "display_name": "Python 3 (ipykernel)",
   "language": "python",
   "name": "python3"
  },
  "language_info": {
   "codemirror_mode": {
    "name": "ipython",
    "version": 3
   },
   "file_extension": ".py",
   "mimetype": "text/x-python",
   "name": "python",
   "nbconvert_exporter": "python",
   "pygments_lexer": "ipython3",
   "version": "3.11.2"
  }
 },
 "nbformat": 4,
 "nbformat_minor": 4
}
