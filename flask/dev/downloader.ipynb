{
 "cells": [
  {
   "cell_type": "code",
   "execution_count": null,
   "id": "b4458ce7",
   "metadata": {},
   "outputs": [],
   "source": [
    "# pip install flask requests\n",
    "import flask, requests, threading, os\n",
    "app = flask.Flask(__name__)\n",
    "@app.route(\"/\")\n",
    "def index():\n",
    "    return \"FrontPage\"\n",
    "\n",
    "play_list = {}\n",
    "@app.route(\"/play_list\", methods=['POST'])\n",
    "def play_list():\n",
    "    req = flask.request\n",
    "    global play_list \n",
    "    play_list = {e['vid']:e['title'] for e in req.json['data']['articles']}\n",
    "    return ''\n",
    "\n",
    "os.makedirs('audio', exist_ok=True)\n",
    "@app.route(\"/audio_file_url\", methods=['POST'])\n",
    "def audio_file_url():\n",
    "    req           = flask.request   \n",
    "    Vid           = req.json['Result']['Vid']\n",
    "    Format        = req.json['Result']['PlayInfoList'][0]['Format'] \n",
    "    filename      = f'audio/{Vid}.{Format}'\n",
    "    MainPlayUrl   = req.json['Result']['PlayInfoList'][0]['MainPlayUrl']  \n",
    "    BackupPlayUrl = req.json['Result']['PlayInfoList'][0]['BackupPlayUrl'] \n",
    "    if os.path.exists(filename): \n",
    "        print('Existed', filename, play_list[Vid]) \n",
    "        return ''\n",
    "    else:\n",
    "        print('New',     filename, play_list[Vid]) \n",
    "        threading.Thread(target=downloader, args=(filename, MainPlayUrl, BackupPlayUrl), \n",
    "                         name='thread-1', daemon=True).start()\n",
    "        return ''\n",
    "\n",
    "def downloader(filename, MainPlayUrl, BackupPlayUrl):\n",
    "    #print(filename, MainPlayUrl, BackupPlayUrl) \n",
    "    resp = requests.get(MainPlayUrl)\n",
    "    if resp.status_code == 200:\n",
    "        with open(filename, 'wb') as fw:\n",
    "            fw.write(resp.content)\n",
    "        return\n",
    "    else:\n",
    "        resp = requests.get(BackupPlayUrl) \n",
    "        if resp.status_code == 200:\n",
    "            with open(filename, 'wb') as fw:\n",
    "                fw.write(resp.content)\n",
    "            return \n",
    "        else:\n",
    "            return \n",
    "\n",
    "app.run(\"0.0.0.0\") "
   ]
  }
 ],
 "metadata": {
  "kernelspec": {
   "display_name": "Python 3 (ipykernel)",
   "language": "python",
   "name": "python3"
  },
  "language_info": {
   "codemirror_mode": {
    "name": "ipython",
    "version": 3
   },
   "file_extension": ".py",
   "mimetype": "text/x-python",
   "name": "python",
   "nbconvert_exporter": "python",
   "pygments_lexer": "ipython3",
   "version": "3.11.2"
  }
 },
 "nbformat": 4,
 "nbformat_minor": 5
}
